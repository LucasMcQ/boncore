{
 "cells": [
  {
   "cell_type": "code",
   "execution_count": 30,
   "metadata": {
    "collapsed": true
   },
   "outputs": [],
   "source": [
    "%matplotlib inline\n",
    "\n",
    "# pip install pynmea2\n",
    "import pynmea2\n",
    "import numpy as np\n",
    "import pandas as pd\n",
    "import matplotlib.pyplot"
   ]
  },
  {
   "cell_type": "code",
   "execution_count": 32,
   "metadata": {},
   "outputs": [
    {
     "name": "stdout",
     "output_type": "stream",
     "text": [
      "     Latitude  Longitude\n",
      "0    3354.929   7602.495\n",
      "1    3354.929   7602.495\n",
      "2    3354.929   7602.495\n",
      "3    3354.929   7602.494\n",
      "4    3354.929   7602.494\n",
      "5    3354.929   7602.494\n",
      "6    3354.928   7602.492\n",
      "7    3354.928   7602.492\n",
      "8    3354.928   7602.492\n",
      "9    3354.928   7602.490\n",
      "10   3354.928   7602.490\n",
      "11   3354.928   7602.490\n",
      "12   3354.927   7602.489\n",
      "13   3354.927   7602.489\n",
      "14   3354.927   7602.489\n",
      "15   3354.927   7602.487\n",
      "16   3354.927   7602.487\n",
      "17   3354.927   7602.487\n",
      "18   3354.926   7602.485\n",
      "19   3354.926   7602.485\n",
      "20   3354.926   7602.485\n",
      "21   3354.926   7602.484\n",
      "22   3354.926   7602.484\n",
      "23   3354.926   7602.484\n",
      "24   3354.925   7602.482\n",
      "25   3354.925   7602.482\n",
      "26   3354.925   7602.482\n",
      "27   3354.924   7602.480\n",
      "28   3354.924   7602.480\n",
      "29   3354.924   7602.480\n",
      "..        ...        ...\n",
      "270  3354.915   7602.354\n",
      "271  3354.915   7602.354\n",
      "272  3354.915   7602.354\n",
      "273  3354.915   7602.352\n",
      "274  3354.915   7602.352\n",
      "275  3354.915   7602.352\n",
      "276  3354.915   7602.350\n",
      "277  3354.915   7602.350\n",
      "278  3354.915   7602.350\n",
      "279  3354.916   7602.349\n",
      "280  3354.916   7602.349\n",
      "281  3354.916   7602.349\n",
      "282  3354.918   7602.347\n",
      "283  3354.918   7602.347\n",
      "284  3354.918   7602.347\n",
      "285  3354.919   7602.346\n",
      "286  3354.919   7602.346\n",
      "287  3354.919   7602.346\n",
      "288  3354.921   7602.345\n",
      "289  3354.921   7602.345\n",
      "290  3354.921   7602.345\n",
      "291  3354.922   7602.344\n",
      "292  3354.922   7602.344\n",
      "293  3354.922   7602.344\n",
      "294  3354.922   7602.342\n",
      "295  3354.922   7602.342\n",
      "296  3354.922   7602.342\n",
      "297  3354.922   7602.340\n",
      "298  3354.922   7602.340\n",
      "299  3354.922   7602.340\n",
      "\n",
      "[300 rows x 2 columns]\n"
     ]
    }
   ],
   "source": [
    "datadict = {'Latitude' : [], 'Longitude' : []}\n",
    "\n",
    "f = open('testNMEA.txt', 'r')\n",
    "l = f.readline()\n",
    "while l != \"\":\n",
    "    msg = pynmea2.parse(l)\n",
    "    datadict['Latitude'].append(float(msg.lat))\n",
    "    datadict['Longitude'].append(float(msg.lon))\n",
    "    l = f.readline()\n",
    "    \n",
    "dataframe = pd.DataFrame(datadict)\n",
    "print(dataframe)"
   ]
  },
  {
   "cell_type": "code",
   "execution_count": 28,
   "metadata": {},
   "outputs": [
    {
     "data": {
      "text/plain": [
       "<matplotlib.axes._subplots.AxesSubplot at 0x10ffcd7b8>"
      ]
     },
     "execution_count": 28,
     "metadata": {},
     "output_type": "execute_result"
    },
    {
     "data": {
      "image/png": "[encoded data removed]",
      "text/plain": [
       "<matplotlib.figure.Figure at 0x10ff15c88>"
      ]
     },
     "metadata": {},
     "output_type": "display_data"
    }
   ],
   "source": [
    "# dataframe = dataframe.cumsum()\n",
    "dataframe.plot(style=['o','rx'])"
   ]
  },
  {
   "cell_type": "code",
   "execution_count": null,
   "metadata": {
    "collapsed": true
   },
   "outputs": [],
   "source": []
  },
  {
   "cell_type": "code",
   "execution_count": null,
   "metadata": {
    "collapsed": true
   },
   "outputs": [],
   "source": []
  }
 ],
 "metadata": {
  "kernelspec": {
   "display_name": "Python 3",
   "language": "python",
   "name": "python3"
  },
  "language_info": {
   "codemirror_mode": {
    "name": "ipython",
    "version": 3
   },
   "file_extension": ".py",
   "mimetype": "text/x-python",
   "name": "python",
   "nbconvert_exporter": "python",
   "pygments_lexer": "ipython3",
   "version": "3.6.1"
  }
 },
 "nbformat": 4,
 "nbformat_minor": 2
}
